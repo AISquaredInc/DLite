{
 "cells": [
  {
   "cell_type": "code",
   "execution_count": null,
   "metadata": {},
   "outputs": [],
   "source": [
    "% pip install -r requirements.txt"
   ]
  },
  {
   "cell_type": "code",
   "execution_count": null,
   "metadata": {},
   "outputs": [],
   "source": [
    "from train.utils import train, create_response, load_model_and_tokenizer, SEED\n",
    "import datetime as dt\n",
    "import os"
   ]
  },
  {
   "cell_type": "code",
   "execution_count": null,
   "metadata": {},
   "outputs": [],
   "source": [
    "output_dir = os.path.join(os.path.expanduser('~'), '_'.join(['DLite1.5b', '_'.join(str(dt.datetime.now()).split()).replace(':', '-')]))\n",
    "print(f'Output path: {output_dir}')\n",
    "if not os.path.exists(output_dir):\n",
    "    os.makedirs(output_dir)"
   ]
  },
  {
   "cell_type": "code",
   "execution_count": null,
   "metadata": {},
   "outputs": [],
   "source": [
    "train(\n",
    "    output_dir,\n",
    "    epochs = 10,\n",
    "    train_batch_size = 8,\n",
    "    eval_batch_size = 8,\n",
    "    lr = 1e-5,\n",
    "    seed = SEED,\n",
    "    gradient_checkpointing = True,\n",
    "    cuda = True\n",
    ")"
   ]
  },
  {
   "cell_type": "code",
   "execution_count": null,
   "metadata": {},
   "outputs": [],
   "source": [
    "model, tokenizer = load_model_and_tokenizer(output_dir)\n",
    "\n",
    "# Set of example prompts\n",
    "eval_prompts = [\n",
    "    'Write a tweet announcing DLite, a large language model from AI Squared.',\n",
    "    'Write a poem.',\n",
    "    'How many legs do dogs typically have?',\n",
    "    'Explain the concept of deep learning.'\n",
    "]\n",
    "\n",
    "for prompt in eval_prompts:\n",
    "    response = create_response(prompt, model = model, tokenizer = tokenizer)\n",
    "    print(f'Prompt: {prompt}\\n\\n{response}\\n\\n-----------\\n')"
   ]
  }
 ],
 "metadata": {
  "kernelspec": {
   "display_name": "base",
   "language": "python",
   "name": "python3"
  },
  "language_info": {
   "codemirror_mode": {
    "name": "ipython",
    "version": 3
   },
   "file_extension": ".py",
   "mimetype": "text/x-python",
   "name": "python",
   "nbconvert_exporter": "python",
   "pygments_lexer": "ipython3",
   "version": "3.10.10"
  },
  "orig_nbformat": 4
 },
 "nbformat": 4,
 "nbformat_minor": 2
}
